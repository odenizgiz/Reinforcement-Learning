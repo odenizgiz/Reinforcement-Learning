{
 "cells": [
  {
   "cell_type": "code",
   "execution_count": 1,
   "metadata": {},
   "outputs": [],
   "source": [
    "import numpy as np \n",
    "import random \n",
    "import time "
   ]
  },
  {
   "cell_type": "code",
   "execution_count": 5,
   "metadata": {},
   "outputs": [],
   "source": [
    "import matplotlib.pyplot as plt"
   ]
  },
  {
   "cell_type": "markdown",
   "metadata": {},
   "source": [
    "## Q-learning"
   ]
  },
  {
   "cell_type": "code",
   "execution_count": 112,
   "metadata": {},
   "outputs": [],
   "source": [
    "class QLearningPlayer():\n",
    "    \n",
    "    def __init__(self, learning_rate, discount, epsilon, state_space, action_space, start_position, game_score):\n",
    "        self.x = start_position \n",
    "        self.actions = ['left', 'right']\n",
    "        self.actions_executed = []\n",
    "        self.num_episodes = 200\n",
    "        self.random_actions_taken_per_epoch = [0]\n",
    "        self.random_actions = 0 \n",
    "        \n",
    "        self.learning_rate = learning_rate \n",
    "        self.discount = discount \n",
    "        self.epsilon = epsilon \n",
    "        \n",
    "        self.state_space = state_space\n",
    "        self.action_space = action_space\n",
    "        self.reward = 0\n",
    "        self.reward_list = []\n",
    "        self.number_of_steps_to_cheese = []\n",
    "        \n",
    "        self.game_score = game_score\n",
    "                \n",
    "        \n",
    "    def initialize_q_table(self):\n",
    "        # initialize to zeros \n",
    "        # self.Q = np.zeros([state_space, action_space])\n",
    "        # or to random values \n",
    "        self.Q = np.random.randn(self.state_space, self.action_space)\n",
    "        \n",
    "        ### determine how you define old_score first. \n",
    "        \n",
    "    \n",
    "    def update_Q_table(self, s, a):\n",
    "        s1 = self.x\n",
    "        self.Q[s, a] = self.Q[s, a] + self.learning_rate*(self.reward + self.discount*max(self.Q[s1, :]) - self.Q[s,a]) \n",
    "        print ('old state is: ', s)\n",
    "        print ('new state is: ', s1)\n",
    "        \n",
    "        \n",
    "    # this score stuff is pretty unnecessary, you could just put these rewards back into the get_input function directly.\n",
    "    def get_reward(self):\n",
    "        # evaluate last action and update the Q-table. \n",
    "        if self.game_score - self.old_score == 100: \n",
    "            self.reward = 10\n",
    "        elif self.old_score < self.game_score: \n",
    "            self.reward = 1 \n",
    "            ## adding this line  \n",
    "        elif self.old_score > self.game_score:\n",
    "            self.reward = -1 \n",
    "        print ('reward is: ', self.reward)\n",
    "        self.reward_list.append(self.reward)\n",
    "        \n",
    "        \n",
    "        \n",
    "    def get_input(self):\n",
    "        # pause for us to follow \n",
    "        time.sleep(0.05) \n",
    "        \n",
    "        self.first_run = True\n",
    "        self.initialize_q_table()\n",
    "        \n",
    "        \n",
    "        for i in range(self.num_episodes): \n",
    "            \n",
    "            self.x = 1\n",
    "            self.actions_executed = []\n",
    "            self.reward_list = []\n",
    "            \n",
    "            if i != 0:\n",
    "                self.random_actions_taken_per_epoch.append(self.random_actions)\n",
    "                self.random_actions = 0 \n",
    "                self.epsilon = 1./((i/150) + 10)\n",
    "            \n",
    "            self.game_score = 1\n",
    "            self.old_score = 1 \n",
    "            \n",
    "            j = 0 \n",
    "            \n",
    "            print ('Episode: ', i)\n",
    "            while j < 99: \n",
    "                j += 1 \n",
    "                \n",
    "                \n",
    "                s = self.x\n",
    "                # choose an action based on Qvalue estimates for state \n",
    "                if np.random.rand(1) < self.epsilon: \n",
    "                    # select a random action \n",
    "                    self.random_actions += 1 \n",
    "                    a = np.random.randint(self.action_space) \n",
    "                else: \n",
    "                    # select based on Q table\n",
    "                    a = np.argmax(self.Q[s, :])\n",
    "                    # add this term later \n",
    "                    # + np.random.randn(1, self.action_space)*(1./(i+1))\n",
    "                    # and define i.  \n",
    "                    \n",
    "                    \n",
    "                    \n",
    "                \n",
    "                self.actions_executed.append(self.actions[a]) \n",
    "                print ('Action taken: ', self.actions[a])\n",
    "                \n",
    "                # capture current state and score \n",
    "                self.old_score = self.game_score\n",
    "\n",
    "\n",
    "\n",
    "                # take action and then \n",
    "                # give score according to where you are in the game:\n",
    "                if self.actions[a] == 'left':\n",
    "                    if self.x == 0:\n",
    "                        print ('You are at the pit! At episode {}, step {}'.format(i, j))\n",
    "                        self.game_score -= 1\n",
    "                        self.get_reward()\n",
    "                        self.update_Q_table(s, a)\n",
    "                        self.number_of_steps_to_cheese.append(200)\n",
    "                        print ('------------------------------------')\n",
    "                        break  \n",
    "                    else:\n",
    "                        self.x -= 1\n",
    "                        self.game_score -= 1\n",
    "                        self.get_reward()\n",
    "                        self.update_Q_table(s, a)\n",
    "                        print ('Come back!')\n",
    "                        \n",
    "                elif self.actions[a] == 'right':\n",
    "                    if self.x == 9:\n",
    "                        print ('You win at episode {}, at {} steps!'.format(i, j))\n",
    "                        self.game_score += 100\n",
    "                        self.get_reward()\n",
    "                        self.update_Q_table(s, a)\n",
    "                        self.number_of_steps_to_cheese.append(j)\n",
    "                        print (\"Old score: \", self.old_score)\n",
    "                        print ('Game score: ', self.game_score)\n",
    "                        print ('+++++++++++++++++++++++++++++++++++++') \n",
    "                        break\n",
    "                    else:\n",
    "                        self.x += 1 \n",
    "                        self.game_score += 1 \n",
    "                        self.get_reward()\n",
    "                        self.update_Q_table(s, a)\n",
    "                        print ('Keep up the good work!')\n",
    "                        \n",
    "                        \n",
    "                if j == 98:\n",
    "                    self.number_of_steps_to_cheese.append(250)\n",
    "                print ('')\n",
    "    \n",
    "            \n",
    "            print ('')\n",
    "            print ('') \n",
    "\n",
    "        return \n",
    "            "
   ]
  },
  {
   "cell_type": "code",
   "execution_count": 1,
   "metadata": {},
   "outputs": [],
   "source": [
    "qlearner = QLearningPlayer(learning_rate=0.2, discount=0.9, epsilon=0.1, state_space=10, action_space=2, start_position=1, game_score=1)\n",
    "my_action = qlearner.get_input()"
   ]
  },
  {
   "cell_type": "code",
   "execution_count": 118,
   "metadata": {
    "collapsed": true
   },
   "outputs": [
    {
     "data": {
      "text/plain": [
       "[200,\n",
       " 250,\n",
       " 250,\n",
       " 250,\n",
       " 61,\n",
       " 9,\n",
       " 13,\n",
       " 11,\n",
       " 11,\n",
       " 9,\n",
       " 9,\n",
       " 200,\n",
       " 13,\n",
       " 9,\n",
       " 17,\n",
       " 9,\n",
       " 9,\n",
       " 9,\n",
       " 9,\n",
       " 9,\n",
       " 11,\n",
       " 9,\n",
       " 9,\n",
       " 11,\n",
       " 9,\n",
       " 11,\n",
       " 13,\n",
       " 9,\n",
       " 11,\n",
       " 9,\n",
       " 9,\n",
       " 9,\n",
       " 11,\n",
       " 9,\n",
       " 9,\n",
       " 9,\n",
       " 9,\n",
       " 9,\n",
       " 19,\n",
       " 9,\n",
       " 9,\n",
       " 9,\n",
       " 9,\n",
       " 11,\n",
       " 11,\n",
       " 9,\n",
       " 9,\n",
       " 9,\n",
       " 17,\n",
       " 11,\n",
       " 9,\n",
       " 9,\n",
       " 9,\n",
       " 9,\n",
       " 9,\n",
       " 9,\n",
       " 9,\n",
       " 9,\n",
       " 9,\n",
       " 9,\n",
       " 11,\n",
       " 9,\n",
       " 9,\n",
       " 9,\n",
       " 9,\n",
       " 11,\n",
       " 9,\n",
       " 9,\n",
       " 11,\n",
       " 9,\n",
       " 11,\n",
       " 9,\n",
       " 9,\n",
       " 9,\n",
       " 15,\n",
       " 9,\n",
       " 9,\n",
       " 11,\n",
       " 13,\n",
       " 11,\n",
       " 9,\n",
       " 9,\n",
       " 11,\n",
       " 9,\n",
       " 9,\n",
       " 9,\n",
       " 9,\n",
       " 9,\n",
       " 9,\n",
       " 9,\n",
       " 9,\n",
       " 9,\n",
       " 9,\n",
       " 9,\n",
       " 11,\n",
       " 9,\n",
       " 9,\n",
       " 9,\n",
       " 9,\n",
       " 9,\n",
       " 9,\n",
       " 11,\n",
       " 11,\n",
       " 11,\n",
       " 13,\n",
       " 9,\n",
       " 9,\n",
       " 9,\n",
       " 13,\n",
       " 11,\n",
       " 9,\n",
       " 9,\n",
       " 11,\n",
       " 9,\n",
       " 11,\n",
       " 11,\n",
       " 9,\n",
       " 13,\n",
       " 11,\n",
       " 9,\n",
       " 9,\n",
       " 13,\n",
       " 9,\n",
       " 13,\n",
       " 9,\n",
       " 11,\n",
       " 9,\n",
       " 9,\n",
       " 11,\n",
       " 9,\n",
       " 9,\n",
       " 9,\n",
       " 9,\n",
       " 9,\n",
       " 9,\n",
       " 11,\n",
       " 9,\n",
       " 11,\n",
       " 13,\n",
       " 9,\n",
       " 9,\n",
       " 9,\n",
       " 9,\n",
       " 13,\n",
       " 11,\n",
       " 9,\n",
       " 11,\n",
       " 9,\n",
       " 9,\n",
       " 11,\n",
       " 11,\n",
       " 9,\n",
       " 9,\n",
       " 9,\n",
       " 9,\n",
       " 9,\n",
       " 9,\n",
       " 9,\n",
       " 9,\n",
       " 11,\n",
       " 11,\n",
       " 9,\n",
       " 9,\n",
       " 9,\n",
       " 9,\n",
       " 13,\n",
       " 9,\n",
       " 9,\n",
       " 9,\n",
       " 9,\n",
       " 9,\n",
       " 9,\n",
       " 15,\n",
       " 9,\n",
       " 9,\n",
       " 9,\n",
       " 9,\n",
       " 11,\n",
       " 11,\n",
       " 9,\n",
       " 11,\n",
       " 9,\n",
       " 9,\n",
       " 9,\n",
       " 9,\n",
       " 9,\n",
       " 9,\n",
       " 9,\n",
       " 9,\n",
       " 9,\n",
       " 9,\n",
       " 9,\n",
       " 11,\n",
       " 11,\n",
       " 9,\n",
       " 9,\n",
       " 9,\n",
       " 9,\n",
       " 11,\n",
       " 9]"
      ]
     },
     "execution_count": 118,
     "metadata": {},
     "output_type": "execute_result"
    }
   ],
   "source": [
    "qlearner.number_of_steps_to_cheese"
   ]
  },
  {
   "cell_type": "code",
   "execution_count": 119,
   "metadata": {},
   "outputs": [
    {
     "data": {
      "text/plain": [
       "200"
      ]
     },
     "execution_count": 119,
     "metadata": {},
     "output_type": "execute_result"
    }
   ],
   "source": [
    "len(qlearner.number_of_steps_to_cheese)"
   ]
  },
  {
   "cell_type": "code",
   "execution_count": 120,
   "metadata": {
    "scrolled": true
   },
   "outputs": [
    {
     "data": {
      "text/plain": [
       "Text(0,0.5,'num_steps took to get to cheese')"
      ]
     },
     "execution_count": 120,
     "metadata": {},
     "output_type": "execute_result"
    },
    {
     "data": {
      "image/png": "[encoded data removed]",
      "text/plain": [
       "<Figure size 432x288 with 1 Axes>"
      ]
     },
     "metadata": {},
     "output_type": "display_data"
    }
   ],
   "source": [
    "plt.plot(range(200), qlearner.number_of_steps_to_cheese)\n",
    "plt.xlabel('epochs')\n",
    "plt.ylabel('num_steps took to get to cheese')"
   ]
  },
  {
   "cell_type": "code",
   "execution_count": 121,
   "metadata": {},
   "outputs": [
    {
     "data": {
      "text/plain": [
       "200"
      ]
     },
     "execution_count": 121,
     "metadata": {},
     "output_type": "execute_result"
    }
   ],
   "source": [
    "len(qlearner.random_actions_taken_per_epoch)"
   ]
  },
  {
   "cell_type": "code",
   "execution_count": 122,
   "metadata": {},
   "outputs": [
    {
     "data": {
      "text/plain": [
       "Text(0,0.5,'number of random actions taken per epoch')"
      ]
     },
     "execution_count": 122,
     "metadata": {},
     "output_type": "execute_result"
    },
    {
     "data": {
      "image/png": "[encoded data removed]",
      "text/plain": [
       "<Figure size 432x288 with 1 Axes>"
      ]
     },
     "metadata": {},
     "output_type": "display_data"
    }
   ],
   "source": [
    "plt.plot(range(200), qlearner.random_actions_taken_per_epoch)\n",
    "plt.xlabel('epochs')\n",
    "plt.ylabel('number of random actions taken per epoch')"
   ]
  },
  {
   "cell_type": "code",
   "execution_count": 123,
   "metadata": {},
   "outputs": [
    {
     "data": {
      "text/plain": [
       "0.08828722778104768"
      ]
     },
     "execution_count": 123,
     "metadata": {},
     "output_type": "execute_result"
    }
   ],
   "source": [
    "qlearner.epsilon"
   ]
  },
  {
   "cell_type": "markdown",
   "metadata": {},
   "source": [
    "<br><Br/>"
   ]
  },
  {
   "cell_type": "markdown",
   "metadata": {},
   "source": [
    "## Random Play"
   ]
  },
  {
   "cell_type": "code",
   "execution_count": 108,
   "metadata": {},
   "outputs": [],
   "source": [
    "class randomPlayer():\n",
    "    \n",
    "    def __init__(self, state_space, action_space, start_position, game_score):\n",
    "        self.x = start_position \n",
    "        self.actions = ['left', 'right']\n",
    "        self.actions_executed = []\n",
    "        self.num_episodes = 200\n",
    "        \n",
    "        self.learning_rate = 0.2\n",
    "        self.discount = 0.9\n",
    "        self.epsilon = 0.9 \n",
    "        \n",
    "        self.state_space = state_space\n",
    "        self.action_space = action_space\n",
    "        self.reward = 0\n",
    "        self.reward_list = []\n",
    "        self.number_of_steps_to_cheese = []\n",
    "        \n",
    "        self.game_score = game_score\n",
    "                \n",
    "        \n",
    "    def initialize_q_table(self):\n",
    "        # initialize to zeros \n",
    "        # self.Q = np.zeros([state_space, action_space])\n",
    "        # or to random values \n",
    "        self.Q = np.random.randn(self.state_space, self.action_space)\n",
    "        \n",
    "        ### determine how you define old_score first. \n",
    "        \n",
    "    \n",
    "    def update_Q_table(self, s, a):\n",
    "        s1 = self.x\n",
    "        self.Q[s, a] = self.Q[s, a] + self.learning_rate*(self.reward + self.discount*max(self.Q[s1, :]) - self.Q[s,a]) \n",
    "        print ('old state is: ', s)\n",
    "        print ('new state is: ', s1)\n",
    "        \n",
    "        \n",
    "    # this score stuff is pretty unnecessary, you could just put these rewards back into the get_input function directly.\n",
    "    def get_reward(self):\n",
    "        # evaluate last action and update the Q-table. \n",
    "        if self.game_score - self.old_score == 100: \n",
    "            self.reward = 10\n",
    "        elif self.old_score < self.game_score: \n",
    "            self.reward = 1 \n",
    "            ## adding this line  \n",
    "        elif self.old_score > self.game_score:\n",
    "            self.reward = -1 \n",
    "        print ('reward is: ', self.reward)\n",
    "        self.reward_list.append(self.reward)\n",
    "        \n",
    "        \n",
    "        \n",
    "    def get_input(self):\n",
    "        # pause for us to follow \n",
    "        time.sleep(0.05) \n",
    "        \n",
    "        self.first_run = True\n",
    "        self.initialize_q_table()\n",
    "        \n",
    "        \n",
    "        for i in range(self.num_episodes): \n",
    "            \n",
    "            self.x = 1\n",
    "            self.actions_executed = []\n",
    "            self.reward_list = []\n",
    "            \n",
    "            self.game_score = 1\n",
    "            self.old_score = 1 \n",
    "            \n",
    "            j = 0 \n",
    "            \n",
    "            print ('Episode: ', i)\n",
    "            while j < 99: \n",
    "                j += 1 \n",
    "                \n",
    "                \n",
    "                s = self.x\n",
    "                # choose an action based on Qvalue estimates for state \n",
    "                # select a random action \n",
    "                a = np.random.randint(self.action_space) \n",
    "                    \n",
    "                    \n",
    "                \n",
    "                self.actions_executed.append(self.actions[a]) \n",
    "                print ('Action taken: ', self.actions[a])\n",
    "                \n",
    "                # capture current state and score \n",
    "                self.old_score = self.game_score\n",
    "\n",
    "\n",
    "\n",
    "                # take action and then \n",
    "                # give score according to where you are in the game:\n",
    "                if self.actions[a] == 'left':\n",
    "                    if self.x == 0:\n",
    "                        print ('You are at the pit! At episode {}, step {}'.format(i, j))\n",
    "                        self.game_score -= 1\n",
    "                        self.get_reward()\n",
    "                        self.update_Q_table(s, a)\n",
    "#                         self.number_of_steps_to_cheese.append(200)\n",
    "                        print ('------------------------------------')\n",
    "                        break  \n",
    "                    else:\n",
    "                        self.x -= 1\n",
    "                        self.game_score -= 1\n",
    "                        self.get_reward()\n",
    "                        self.update_Q_table(s, a)\n",
    "                        print ('Come back!')\n",
    "                        \n",
    "                elif self.actions[a] == 'right':\n",
    "                    if self.x == 9:\n",
    "                        print ('You win at episode {}, at {} steps!'.format(i, j))\n",
    "                        self.game_score += 100\n",
    "                        self.get_reward()\n",
    "                        self.update_Q_table(s, a)\n",
    "                        self.number_of_steps_to_cheese.append(j)\n",
    "                        print (\"Old score: \", self.old_score)\n",
    "                        print ('Game score: ', self.game_score)\n",
    "                        print ('+++++++++++++++++++++++++++++++++++++') \n",
    "                        break\n",
    "                    else:\n",
    "                        self.x += 1 \n",
    "                        self.game_score += 1 \n",
    "                        self.get_reward()\n",
    "                        self.update_Q_table(s, a)\n",
    "                        print ('Keep up the good work!')\n",
    "                \n",
    "                \n",
    "                \n",
    "#                 if j == 98:\n",
    "#                     self.number_of_steps_to_cheese.append(200)\n",
    "                    \n",
    "                print ('')\n",
    "    \n",
    "            \n",
    "            print ('')\n",
    "            print ('') \n",
    "\n",
    "        return \n",
    "            "
   ]
  },
  {
   "cell_type": "code",
   "execution_count": 2,
   "metadata": {},
   "outputs": [],
   "source": [
    "randomlearner = randomPlayer(state_space=10, action_space=2, start_position=1, game_score=1)\n",
    "my_random_action = randomlearner.get_input()"
   ]
  },
  {
   "cell_type": "code",
   "execution_count": 110,
   "metadata": {},
   "outputs": [
    {
     "data": {
      "text/plain": [
       "40"
      ]
     },
     "execution_count": 110,
     "metadata": {},
     "output_type": "execute_result"
    }
   ],
   "source": [
    "len(randomlearner.number_of_steps_to_cheese)"
   ]
  },
  {
   "cell_type": "code",
   "execution_count": 111,
   "metadata": {},
   "outputs": [
    {
     "data": {
      "text/plain": [
       "Text(0,0.5,'num_steps took to get to cheese')"
      ]
     },
     "execution_count": 111,
     "metadata": {},
     "output_type": "execute_result"
    },
    {
     "data": {
      "image/png": "[encoded data removed]",
      "text/plain": [
       "<Figure size 432x288 with 1 Axes>"
      ]
     },
     "metadata": {},
     "output_type": "display_data"
    }
   ],
   "source": [
    "plt.plot(range(len(randomlearner.number_of_steps_to_cheese)), randomlearner.number_of_steps_to_cheese)\n",
    "plt.xlabel('epochs')\n",
    "plt.ylabel('num_steps took to get to cheese')"
   ]
  },
  {
   "cell_type": "code",
   "execution_count": null,
   "metadata": {},
   "outputs": [],
   "source": []
  }
 ],
 "metadata": {
  "kernelspec": {
   "display_name": "Python 3",
   "language": "python",
   "name": "python3"
  },
  "language_info": {
   "codemirror_mode": {
    "name": "ipython",
    "version": 3
   },
   "file_extension": ".py",
   "mimetype": "text/x-python",
   "name": "python",
   "nbconvert_exporter": "python",
   "pygments_lexer": "ipython3",
   "version": "3.6.5"
  }
 },
 "nbformat": 4,
 "nbformat_minor": 2
}
